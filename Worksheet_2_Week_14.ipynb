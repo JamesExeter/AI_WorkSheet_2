{
  "nbformat": 4,
  "nbformat_minor": 0,
  "metadata": {
    "kernelspec": {
      "display_name": "Python 3",
      "language": "python",
      "name": "python3"
    },
    "language_info": {
      "codemirror_mode": {
        "name": "ipython",
        "version": 3
      },
      "file_extension": ".py",
      "mimetype": "text/x-python",
      "name": "python",
      "nbconvert_exporter": "python",
      "pygments_lexer": "ipython3",
      "version": "3.9.1"
    },
    "colab": {
      "name": "Worksheet 2 Week 14.ipynb",
      "provenance": [],
      "collapsed_sections": [],
      "include_colab_link": true
    }
  },
  "cells": [
    {
      "cell_type": "markdown",
      "metadata": {
        "id": "view-in-github",
        "colab_type": "text"
      },
      "source": [
        "<a href=\"https://colab.research.google.com/github/JamesExeter/AI_WorkSheet_2/blob/main/Worksheet_2_Week_14.ipynb\" target=\"_parent\"><img src=\"https://colab.research.google.com/assets/colab-badge.svg\" alt=\"Open In Colab\"/></a>"
      ]
    },
    {
      "cell_type": "markdown",
      "metadata": {
        "id": "HZVCXY9TWxaw"
      },
      "source": [
        "# Introduction\n",
        "\n",
        "This worksheet covers the three supervised learning algorithms we looked at in week 14: k-nearest neighbours, linear regression, and the naive Bayes classifier. Similar to last week, you will do some work implementing your own versions of these algorithms, to ensure that you understand the details of them. You will also compare them with the implementations in scikit-learn to test your implementations."
      ]
    },
    {
      "cell_type": "markdown",
      "metadata": {
        "id": "FJ9-BHP1Wxa7"
      },
      "source": [
        "# Preliminaries\n",
        "Import key packages: NumPy, matplotlib, and any others that you prefer to work with. In general, when writing code, you will put all your import statements at the top. However, for these worksheets we will import as we go along."
      ]
    },
    {
      "cell_type": "code",
      "metadata": {
        "id": "DAY47-ATWxa8"
      },
      "source": [
        "#TODO: import NumPy and matplotlib here\r\n",
        "import numpy as np\r\n",
        "import matplotlib.pyplot as plt"
      ],
      "execution_count": 1,
      "outputs": []
    },
    {
      "cell_type": "markdown",
      "metadata": {
        "id": "khmnw9RDWxa9"
      },
      "source": [
        "# Question 1: k-nearest neighbours classification\n",
        "In this question we will use the k-nearest neighbours algorithm to make predictions on the breast cancer Wisconsin dataset. This is a classification problem where the aim is to classify instances as either being malignant or benign based on the following 10 features:\n",
        "1. radius (mean of distances from center to points on the perimeter)\n",
        "2. texture (standard deviation of gray-scale values)\n",
        "3. perimeter\n",
        "4. area\n",
        "5. smoothness (local variation in radius lengths)\n",
        "6. compactness (perimeter squared/ area −1)\n",
        "7. concavity (severity of concave portions of the contour)\n",
        "8. concave points (number of concave portions of the contour)\n",
        "9. symmetry\n",
        "10. fractal dimension (‘coastline approximation’ −1)\n",
        "\n",
        "In this question you will (a) download the dataset from sklearn and store the data and targets in suitable variables, (b) separate your data into a training and test split, (c) write your own function to implement k-nearest neighbours, (d) check your implementation with that of sklearn. Wethen go on to (e) select the most appropriate value of $k$ using cross-validation."
      ]
    },
    {
      "cell_type": "markdown",
      "metadata": {
        "id": "lmWrtb_7Wxa9"
      },
      "source": [
        "## Part (a)\n",
        "Import the package `datasets` from `sklearn` and then load the breast cancer dataset (function is `load_breast_cancer()`). Save the data into a variable `X` and the targets into a variable `Y`. \n",
        "Take a look at the data in `X`. How many datapoints are there? How many features does each datapoint have? (Hint: use `np.shape`).\n",
        "Take a look at the targets. Is this suitable for a classification algorithm or a regression algorithm?"
      ]
    },
    {
      "cell_type": "code",
      "metadata": {
        "colab": {
          "base_uri": "https://localhost:8080/"
        },
        "id": "X367Cti1Wxa-",
        "outputId": "8d1f1e88-2ab5-4197-ef41-87e9eda82d62"
      },
      "source": [
        "# Import suitable packages, load the dataset, and save data and targets into variables X and Y\n",
        "# import packages\n",
        "##TODO##\n",
        "from sklearn import datasets\n",
        "\n",
        "# load dataset and save data and targets into X and Y\n",
        "##TODO##\n",
        "data = datasets.load_breast_cancer() # load the dataset\n",
        "X = data.data # extract the features\n",
        "Y = data.target # extract the labels\n",
        "\n",
        "np.shape(X) # 30 features and 569 observations\n"
      ],
      "execution_count": 2,
      "outputs": [
        {
          "output_type": "execute_result",
          "data": {
            "text/plain": [
              "(569, 30)"
            ]
          },
          "metadata": {
            "tags": []
          },
          "execution_count": 2
        }
      ]
    },
    {
      "cell_type": "code",
      "metadata": {
        "colab": {
          "base_uri": "https://localhost:8080/"
        },
        "id": "0mCjaN0nbpw4",
        "outputId": "1ebb7b41-5950-4fe8-9540-bce69826b7a6"
      },
      "source": [
        "Y[20:30] # suitable for classification as only two classes, not regression"
      ],
      "execution_count": 3,
      "outputs": [
        {
          "output_type": "execute_result",
          "data": {
            "text/plain": [
              "array([1, 1, 0, 0, 0, 0, 0, 0, 0, 0])"
            ]
          },
          "metadata": {
            "tags": []
          },
          "execution_count": 3
        }
      ]
    },
    {
      "cell_type": "markdown",
      "metadata": {
        "id": "hW1bA5_NWxa-"
      },
      "source": [
        "## Part (b)\n",
        "\n",
        "Use the function `train_test_split` from `sklearn.model_selection` to split your data into a training set and a held-out test set. Use a test set that is 0.2 of the original dataset. Set the parameter `random_state` to 10 to help with replication."
      ]
    },
    {
      "cell_type": "code",
      "metadata": {
        "id": "68adSw5CWxa_"
      },
      "source": [
        "# Import the package train_test_split from sklearn.model_selection.\n",
        "from sklearn.model_selection import train_test_split\n",
        "# Split the dataset into Xtr, Xtest, Ytr, Ytest. Xtest and Ytest will form your held-out\n",
        "# test set. You will later split Xtr and Ytr into training and validation sets.\n",
        "Xtr, Xtest, Ytr, Ytest = train_test_split(X, Y, test_size = 0.2, random_state = 41)"
      ],
      "execution_count": 4,
      "outputs": []
    },
    {
      "cell_type": "markdown",
      "metadata": {
        "id": "hTTh2ZNoWxa_"
      },
      "source": [
        "## Part (c) \n",
        "Recall from the lecture that the k-nearest neighbours algorithm runs as follows:\n",
        "\n",
        "Training step: Simply store the dataset\n",
        "\n",
        "Prediction step: Given a datapoint $\\vec{x}$:\n",
        " - **Find** the k datapoints $(\\vec{x}_i, y_i)$ where the distance from $\\vec{x}$ to $\\vec{x}_i$ is smallest\n",
        " - **Return** the majority class from the $y_i$\n",
        "   \n",
        " \n",
        "What, if anything, do you need to do for the training step?\n",
        "\n",
        "Write function(s) to implement the k-nearest neighbours prediction step. You may wish to break the procedure down into two functions `predict_datapoint` that makes a prediction for one datapoint and `predict_data` that loops over the whole dataset.\n",
        "\n",
        "To select the majority class from the nearest neighbours, you can use the function `scipy.stats.mode()`\n"
      ]
    },
    {
      "cell_type": "code",
      "metadata": {
        "colab": {
          "base_uri": "https://localhost:8080/"
        },
        "id": "ItncHQSoWxbA",
        "outputId": "807e46e1-5713-499f-aff2-15b32f271a3b"
      },
      "source": [
        "from scipy.stats import mode\n",
        "import math\n",
        "# Write function(s) to implement the prediction step in k-nearest neighbours. \n",
        "# You can use the suggested structure below if desired.\n",
        "\n",
        "def get_distance(data1, data2):\n",
        "    points = zip(data1, data2)\n",
        "    diffs_squared_distance = [pow(a - b, 2) for (a, b) in points]\n",
        "    return math.sqrt(sum(diffs_squared_distance))\n",
        "\n",
        "# predict_datapoint takes 4 arguments. pt (type: numpy array) is the datapoint we are making a prediction about, \n",
        "# Xtrain and Ytrain (numpy arrays) are training data and targets, k (int) is the number of neighbours.\n",
        "# Returns an integer which is the predicted class for pt\n",
        "def predict_datapoint(pt, Xtrain, Ytrain, k):\n",
        "    # For each datapoint in Xtrain, calculate the distance to pt and store\n",
        "    ##TODO##\n",
        "    dists = []\n",
        "    for next_pt in Xtrain:\n",
        "      dist = get_distance(pt, next_pt)\n",
        "      dists.append(dist)\n",
        "        \n",
        "    # Sort the list of distances (hint: use np.argsort)\n",
        "    ##TODO##\n",
        "    dists_idxs = np.argsort(dists)\n",
        "    \n",
        "    # obtain the classes (in Ytrain) of the datapoints with the smallest distance to pt\n",
        "    ##TODO##\n",
        "    classes_near = Ytrain[dists_idxs]\n",
        "    classes_near = classes_near[:k]\n",
        "    \n",
        "    # return the mode of the classes\n",
        "    ##TODO##\n",
        "    return mode(classes_near)[0][0]\n",
        "\n",
        "# predict_data takes 4 arguments: the test data Xtst (numpy array), the training data Xtrain (numpy array),\n",
        "# the training targets Ytrain (numpy array), and the number of neighbours k (int, default = 3). \n",
        "# Returns: predictions (array of int) for each point in Xtst\n",
        "def predict_data(Xtst, Xtrain, Ytrain, k=3):\n",
        "    #Loop over the datapoints in Xtst and store the prediction for that datapoint\n",
        "    ##TODO##\n",
        "    predicts = []\n",
        "    for pt in Xtst:\n",
        "      predicts.append(predict_datapoint(pt, Xtrain, Ytrain, k))\n",
        "\n",
        "    # Return the predictions\n",
        "    ##TODO##\n",
        "    return predicts\n",
        "\n",
        "# Predict values for the TRAINING data (we will not look at the test set yet)\n",
        "##TODO##\n",
        "predictions = predict_data(Xtr, Xtr, Ytr)\n",
        "print(predictions)"
      ],
      "execution_count": 5,
      "outputs": [
        {
          "output_type": "stream",
          "text": [
            "[1, 1, 1, 1, 0, 1, 0, 1, 1, 0, 1, 1, 1, 1, 1, 1, 0, 0, 1, 1, 0, 0, 0, 0, 1, 0, 0, 1, 1, 0, 1, 1, 1, 0, 1, 1, 0, 0, 1, 1, 1, 1, 1, 1, 1, 1, 0, 1, 1, 1, 0, 0, 0, 1, 0, 1, 1, 1, 0, 1, 1, 0, 1, 0, 1, 1, 0, 0, 1, 0, 0, 1, 1, 1, 1, 0, 0, 0, 1, 0, 0, 0, 1, 1, 0, 0, 1, 0, 1, 0, 1, 0, 1, 0, 0, 0, 1, 1, 1, 1, 0, 1, 1, 0, 1, 1, 0, 1, 0, 1, 1, 1, 0, 0, 0, 1, 0, 0, 0, 1, 1, 0, 1, 0, 1, 1, 0, 1, 0, 1, 1, 1, 0, 0, 0, 1, 1, 1, 0, 1, 1, 0, 1, 1, 1, 1, 1, 1, 0, 1, 1, 0, 1, 0, 1, 0, 1, 1, 0, 0, 1, 1, 1, 1, 1, 0, 0, 1, 1, 1, 1, 1, 0, 1, 1, 0, 1, 0, 1, 1, 1, 0, 1, 0, 1, 1, 0, 1, 1, 1, 1, 1, 0, 1, 1, 1, 1, 1, 0, 0, 1, 1, 0, 1, 1, 0, 0, 1, 0, 1, 1, 0, 1, 1, 0, 1, 1, 1, 1, 1, 1, 1, 1, 0, 0, 1, 1, 0, 1, 1, 1, 0, 1, 1, 0, 0, 1, 1, 1, 1, 1, 1, 1, 1, 1, 1, 1, 0, 0, 1, 1, 1, 0, 1, 1, 1, 1, 0, 0, 1, 1, 0, 1, 1, 1, 0, 0, 1, 1, 1, 1, 0, 0, 1, 1, 0, 0, 0, 1, 1, 1, 0, 0, 0, 1, 1, 1, 0, 1, 0, 1, 1, 1, 1, 0, 1, 0, 0, 1, 1, 1, 0, 0, 1, 1, 1, 1, 1, 0, 0, 0, 1, 1, 1, 1, 1, 1, 0, 1, 1, 1, 0, 1, 1, 1, 1, 1, 0, 0, 0, 1, 1, 1, 1, 0, 1, 1, 0, 0, 1, 0, 0, 1, 0, 0, 1, 1, 0, 1, 0, 1, 1, 1, 1, 0, 1, 0, 1, 1, 0, 0, 1, 1, 0, 1, 1, 0, 0, 1, 1, 1, 1, 0, 0, 1, 1, 1, 0, 1, 1, 0, 1, 1, 0, 1, 1, 1, 0, 1, 1, 1, 0, 0, 0, 1, 0, 1, 1, 1, 1, 0, 1, 1, 1, 1, 1, 0, 1, 1, 1, 1, 0, 0, 1, 1, 0, 0, 1, 0, 1, 1, 1, 1, 0, 0, 1, 1, 0, 1, 0, 1, 1, 1, 1, 0, 0, 1, 1, 1, 0, 1, 1, 0, 1, 0, 1, 0, 1, 0, 0, 1, 1, 1, 0, 1]\n"
          ],
          "name": "stdout"
        }
      ]
    },
    {
      "cell_type": "markdown",
      "metadata": {
        "id": "rXnmxjYCWxbA"
      },
      "source": [
        "## Part (d)\n",
        "Now we can compare your implementation with the sklearn implementation (you should get the same results). Firstly import the classfifier `KNeighborsClassifier` from `sklearn.neighbors`. Instantiate the classifier with the same number of neighbours that you used previously. Fit the model and make a prediction on the test set."
      ]
    },
    {
      "cell_type": "code",
      "metadata": {
        "colab": {
          "base_uri": "https://localhost:8080/"
        },
        "id": "_hbS2DCCWxbB",
        "outputId": "2156a3a5-8ee6-4b82-af2a-c5012d8834fe"
      },
      "source": [
        "# Import KNeighborClassifier\n",
        "##TODO##\n",
        "from sklearn.neighbors import KNeighborsClassifier\n",
        "\n",
        "# Instantiate the classifier with 3 neighbors\n",
        "##TODO##\n",
        "classifier = KNeighborsClassifier(n_neighbors = 3)\n",
        "\n",
        "#Fit the classifier on the training data\n",
        "##TODO##\n",
        "classifier.fit(Xtr, Ytr)\n",
        "\n",
        "#Make a prediction on the training data\n",
        "##TODO##\n",
        "predictions_built_in = classifier.predict(Xtr)\n",
        "print(predictions_built_in)"
      ],
      "execution_count": 6,
      "outputs": [
        {
          "output_type": "stream",
          "text": [
            "[1 1 1 1 0 1 0 1 1 0 1 1 1 1 1 1 0 0 1 1 0 0 0 0 1 0 0 1 1 0 1 1 1 0 1 1 0\n",
            " 0 1 1 1 1 1 1 1 1 0 1 1 1 0 0 0 1 0 1 1 1 0 1 1 0 1 0 1 1 0 0 1 0 0 1 1 1\n",
            " 1 0 0 0 1 0 0 0 1 1 0 0 1 0 1 0 1 0 1 0 0 0 1 1 1 1 0 1 1 0 1 1 0 1 0 1 1\n",
            " 1 0 0 0 1 0 0 0 1 1 0 1 0 1 1 0 1 0 1 1 1 0 0 0 1 1 1 0 1 1 0 1 1 1 1 1 1\n",
            " 0 1 1 0 1 0 1 0 1 1 0 0 1 1 1 1 1 0 0 1 1 1 1 1 0 1 1 0 1 0 1 1 1 0 1 0 1\n",
            " 1 0 1 1 1 1 1 0 1 1 1 1 1 0 0 1 1 0 1 1 0 0 1 0 1 1 0 1 1 0 1 1 1 1 1 1 1\n",
            " 1 0 0 1 1 0 1 1 1 0 1 1 0 0 1 1 1 1 1 1 1 1 1 1 1 0 0 1 1 1 0 1 1 1 1 0 0\n",
            " 1 1 0 1 1 1 0 0 1 1 1 1 0 0 1 1 0 0 0 1 1 1 0 0 0 1 1 1 0 1 0 1 1 1 1 0 1\n",
            " 0 0 1 1 1 0 0 1 1 1 1 1 0 0 0 1 1 1 1 1 1 0 1 1 1 0 1 1 1 1 1 0 0 0 1 1 1\n",
            " 1 0 1 1 0 0 1 0 0 1 0 0 1 1 0 1 0 1 1 1 1 0 1 0 1 1 0 0 1 1 0 1 1 0 0 1 1\n",
            " 1 1 0 0 1 1 1 0 1 1 0 1 1 0 1 1 1 0 1 1 1 0 0 0 1 0 1 1 1 1 0 1 1 1 1 1 0\n",
            " 1 1 1 1 0 0 1 1 0 0 1 0 1 1 1 1 0 0 1 1 0 1 0 1 1 1 1 0 0 1 1 1 0 1 1 0 1\n",
            " 0 1 0 1 0 0 1 1 1 0 1]\n"
          ],
          "name": "stdout"
        }
      ]
    },
    {
      "cell_type": "markdown",
      "metadata": {
        "id": "8Rq7aYBMWxbB"
      },
      "source": [
        "Check whether your predictions are the same as the predictions from `KNeighborsClassifier`."
      ]
    },
    {
      "cell_type": "code",
      "metadata": {
        "colab": {
          "base_uri": "https://localhost:8080/"
        },
        "id": "BCkMkJq4WxbC",
        "outputId": "2432d381-bb5b-4ca1-9b1a-8c43e71dd750"
      },
      "source": [
        "##TODO##\r\n",
        "predictions == predictions_built_in"
      ],
      "execution_count": 7,
      "outputs": [
        {
          "output_type": "execute_result",
          "data": {
            "text/plain": [
              "array([ True,  True,  True,  True,  True,  True,  True,  True,  True,\n",
              "        True,  True,  True,  True,  True,  True,  True,  True,  True,\n",
              "        True,  True,  True,  True,  True,  True,  True,  True,  True,\n",
              "        True,  True,  True,  True,  True,  True,  True,  True,  True,\n",
              "        True,  True,  True,  True,  True,  True,  True,  True,  True,\n",
              "        True,  True,  True,  True,  True,  True,  True,  True,  True,\n",
              "        True,  True,  True,  True,  True,  True,  True,  True,  True,\n",
              "        True,  True,  True,  True,  True,  True,  True,  True,  True,\n",
              "        True,  True,  True,  True,  True,  True,  True,  True,  True,\n",
              "        True,  True,  True,  True,  True,  True,  True,  True,  True,\n",
              "        True,  True,  True,  True,  True,  True,  True,  True,  True,\n",
              "        True,  True,  True,  True,  True,  True,  True,  True,  True,\n",
              "        True,  True,  True,  True,  True,  True,  True,  True,  True,\n",
              "        True,  True,  True,  True,  True,  True,  True,  True,  True,\n",
              "        True,  True,  True,  True,  True,  True,  True,  True,  True,\n",
              "        True,  True,  True,  True,  True,  True,  True,  True,  True,\n",
              "        True,  True,  True,  True,  True,  True,  True,  True,  True,\n",
              "        True,  True,  True,  True,  True,  True,  True,  True,  True,\n",
              "        True,  True,  True,  True,  True,  True,  True,  True,  True,\n",
              "        True,  True,  True,  True,  True,  True,  True,  True,  True,\n",
              "        True,  True,  True,  True,  True,  True,  True,  True,  True,\n",
              "        True,  True,  True,  True,  True,  True,  True,  True,  True,\n",
              "        True,  True,  True,  True,  True,  True,  True,  True,  True,\n",
              "        True,  True,  True,  True,  True,  True,  True,  True,  True,\n",
              "        True,  True,  True,  True,  True,  True,  True,  True,  True,\n",
              "        True,  True,  True,  True,  True,  True,  True,  True,  True,\n",
              "        True,  True,  True,  True,  True,  True,  True,  True,  True,\n",
              "        True,  True,  True,  True,  True,  True,  True,  True,  True,\n",
              "        True,  True,  True,  True,  True,  True,  True,  True,  True,\n",
              "        True,  True,  True,  True,  True,  True,  True,  True,  True,\n",
              "        True,  True,  True,  True,  True,  True,  True,  True,  True,\n",
              "        True,  True,  True,  True,  True,  True,  True,  True,  True,\n",
              "        True,  True,  True,  True,  True,  True,  True,  True,  True,\n",
              "        True,  True,  True,  True,  True,  True,  True,  True,  True,\n",
              "        True,  True,  True,  True,  True,  True,  True,  True,  True,\n",
              "        True,  True,  True,  True,  True,  True,  True,  True,  True,\n",
              "        True,  True,  True,  True,  True,  True,  True,  True,  True,\n",
              "        True,  True,  True,  True,  True,  True,  True,  True,  True,\n",
              "        True,  True,  True,  True,  True,  True,  True,  True,  True,\n",
              "        True,  True,  True,  True,  True,  True,  True,  True,  True,\n",
              "        True,  True,  True,  True,  True,  True,  True,  True,  True,\n",
              "        True,  True,  True,  True,  True,  True,  True,  True,  True,\n",
              "        True,  True,  True,  True,  True,  True,  True,  True,  True,\n",
              "        True,  True,  True,  True,  True,  True,  True,  True,  True,\n",
              "        True,  True,  True,  True,  True,  True,  True,  True,  True,\n",
              "        True,  True,  True,  True,  True,  True,  True,  True,  True,\n",
              "        True,  True,  True,  True,  True,  True,  True,  True,  True,\n",
              "        True,  True,  True,  True,  True,  True,  True,  True,  True,\n",
              "        True,  True,  True,  True,  True,  True,  True,  True,  True,\n",
              "        True,  True,  True,  True,  True,  True,  True,  True,  True,\n",
              "        True,  True,  True,  True,  True])"
            ]
          },
          "metadata": {
            "tags": []
          },
          "execution_count": 7
        }
      ]
    },
    {
      "cell_type": "markdown",
      "metadata": {
        "id": "THt9xB-bWxbC"
      },
      "source": [
        "Use the built in metrics in sklearn to calculate the accuracy of your classifier on the TRAINING set."
      ]
    },
    {
      "cell_type": "code",
      "metadata": {
        "colab": {
          "base_uri": "https://localhost:8080/"
        },
        "id": "1T3Je-GeWxbD",
        "outputId": "f90515b5-c0dc-4640-9771-8525dc594522"
      },
      "source": [
        "##TODO## \r\n",
        "from sklearn import metrics\r\n",
        "\r\n",
        "print(\"Accuracy:\", metrics.accuracy_score(Ytr, predictions))"
      ],
      "execution_count": 8,
      "outputs": [
        {
          "output_type": "stream",
          "text": [
            "Accuracy: 0.9472527472527472\n"
          ],
          "name": "stdout"
        }
      ]
    },
    {
      "cell_type": "markdown",
      "metadata": {
        "id": "NUOjBwMeWxbD"
      },
      "source": [
        "## Part(e) Using cross-validation for model selection\n",
        "k-nearest neighbours has the parameter $k$, and we need to decide which is the best value of $k$ to use. Last week we talked about using cross-validation for model selection.\n",
        "\n",
        "We will use cross-validation on our training set to select the best value of $k$, in a range from 1 to 30.\n",
        "\n",
        "NB: use sklearn's version of k-NN rather than yours, since unless you have optimised yours it is probably too slow.\n",
        "\n",
        "Since we are using cross-validation for model selection we will cross-validate on the training set only.\n",
        "\n",
        "Procedure:\n",
        "        \n",
        " 1. Import `KFold` from `sklearn.model_selection`  \n",
        " 1. Instantiate `KFold` with 5 splits. Set the parameter `random_state` to help you reproduce your results if needed.\n",
        " 1. Set a variable `max_k` to 30  \n",
        " 1. Inititalise two variables to store the training accuracies and validation accuracies (these need to store max_k\\*5 accuracies)  \n",
        " 1. Loop over the values of k:  \n",
        "    1. Instantiate a k-nn classifier (Use the sklearn classifier) with the current value of k  \n",
        "    1. Loop over the cross-validation splits:  \n",
        "       1. fit the model on the current split of data  \n",
        "       1. make predictions  \n",
        "       1. calculate training and validation accuracy and store  \n",
        " 6. Calculate the mean training and validation accuracies across splits for each $k$\n",
        "\n",
        "Plot the mean training and validation accuracies. Which value of $k$ will you use? Why?\n",
        "    "
      ]
    },
    {
      "cell_type": "code",
      "metadata": {
        "colab": {
          "base_uri": "https://localhost:8080/"
        },
        "id": "mCHd_XhCWxbE",
        "outputId": "ab1d2df0-a8de-470b-dd7f-21f74468a99f"
      },
      "source": [
        "# Use cross-validation to select the value of k\n",
        "# You can use the structure below if desired\n",
        "\n",
        "# Import KFold from sklearn.model_selection\n",
        "##TODO##\n",
        "from sklearn.model_selection import KFold\n",
        "\n",
        "# Instantiate KFold with 5 splits. \n",
        "# Set the parameter random_state to help you reproduce your results if needed.\n",
        "##TODO##\n",
        "kf = KFold(n_splits = 5, random_state = 4)\n",
        "\n",
        "# Set a variable max_k to 30 \n",
        "##TODO##\n",
        "max_k = 30\n",
        "\n",
        "# Inititalise two variables to store the \n",
        "# training accuracies and validation accuracies \n",
        "# (these need to store max_k*5 accuracies) \n",
        "##TODO##\n",
        "train_accs = []\n",
        "valid_accs = []\n",
        "\n",
        "# Loop over the values of k: \n",
        "for k in range(max_k):\n",
        "    \n",
        "    # Instantiate a k-nn classifier (Use the sklearn classifier)\n",
        "    # with the current value of k \n",
        "    ##TODO##\n",
        "    classifier = KNeighborsClassifier(n_neighbors = k+1)\n",
        "    k_train_accs = []\n",
        "    k_valid_accs = []\n",
        "\n",
        "    # Loop over the cross-validation splits: \n",
        "    ##TODO##\n",
        "    for train_idx, test_idx in kf.split(Xtr):\n",
        "        Xtrain, Xval = Xtr[train_idx], Xtr[test_idx]\n",
        "        Ytrain, Yval = Ytr[train_idx], Ytr[test_idx]\n",
        "        # fit the model on the current split of data \n",
        "        ##TODO##\n",
        "        classifier.fit(Xtrain, Ytrain)\n",
        "        \n",
        "        # make predictions \n",
        "        ##TODO##\n",
        "        train_y_pred = classifier.predict(Xtrain)\n",
        "        val_y_pred = classifier.predict(Xval)\n",
        "        \n",
        "        # calculate training and validation accuracy and store \n",
        "        ##TODO##\n",
        "        k_train_accs.append(metrics.accuracy_score(Ytrain, train_y_pred))\n",
        "        k_valid_accs.append(metrics.accuracy_score(Yval, val_y_pred))\n",
        "    \n",
        "    train_accs.append(np.mean(k_train_accs))\n",
        "    valid_accs.append(np.mean(k_valid_accs))\n",
        "        \n",
        "# Calculate the mean training and validation accuracies across splits for each 𝑘\n",
        "##TODO##\n",
        "mean_train_acc = np.mean(train_accs)\n",
        "mean_val_acc = np.mean(valid_accs)\n",
        "\n",
        "print(\"Training mean\", mean_train_acc)\n",
        "print(\"Validation mean\", mean_val_acc)"
      ],
      "execution_count": 9,
      "outputs": [
        {
          "output_type": "stream",
          "text": [
            "/usr/local/lib/python3.6/dist-packages/sklearn/model_selection/_split.py:296: FutureWarning: Setting a random_state has no effect since shuffle is False. This will raise an error in 0.24. You should leave random_state to its default (None), or set shuffle=True.\n",
            "  FutureWarning\n"
          ],
          "name": "stderr"
        },
        {
          "output_type": "stream",
          "text": [
            "Training mean 0.9341575091575092\n",
            "Validation mean 0.9241758241758242\n"
          ],
          "name": "stdout"
        }
      ]
    },
    {
      "cell_type": "code",
      "metadata": {
        "colab": {
          "base_uri": "https://localhost:8080/",
          "height": 282
        },
        "id": "1oQaoNxpWxbF",
        "outputId": "396dad82-b403-41bc-fa84-d1c37abd8df1"
      },
      "source": [
        "# Plot the mean training and validation accuracies against each value of k. Which value of 𝑘 will you use? Why?\n",
        "##TODO##\n",
        "k_vals = [k+1 for k in range(30)]\n",
        "\n",
        "plt.plot(k_vals, train_accs, label = \"Training accuracy\")\n",
        "plt.plot(k_vals, valid_accs, label = \"Validation accuracy\")\n",
        "plt.legend(loc=\"upper right\")\n",
        "\n",
        "print(valid_accs.index(np.max(valid_accs)))\n",
        "\n",
        "# The maximum accuracy obtained on the validation data was given by k = 6 so this is the value that should be used.\n",
        "# We don't use the accuracy for the training set as that would mean overfitting on the training data for all future data predicted on"
      ],
      "execution_count": 10,
      "outputs": [
        {
          "output_type": "stream",
          "text": [
            "6\n"
          ],
          "name": "stdout"
        },
        {
          "output_type": "display_data",
          "data": {
            "image/png": "[encoded data removed]",
            "text/plain": [
              "<Figure size 432x288 with 1 Axes>"
            ]
          },
          "metadata": {
            "tags": [],
            "needs_background": "light"
          }
        }
      ]
    },
    {
      "cell_type": "markdown",
      "metadata": {
        "id": "w9FS_p_dWxbG"
      },
      "source": [
        "# The naive Bayes classifier\n",
        "\n",
        "Recall from the lecture notes that the naive Bayes classifier works as follows. We are trying to approximate an unknown function $$f:\\Omega \\rightarrow \\mathcal{O}$$\n",
        "where $\\Omega$ is our feature space and our output space $\\mathcal{O} = \\{c_1, c_2, ... c_K\\}$ is a finite set of classes.\n",
        "\n",
        "The naive Bayes classifier does this by building a model that assigns the class label $\\hat{y} = c_k$ as follows:\n",
        "$$\n",
        "\\hat{y} = \\text{argmax}_k p(c_k)\\prod_i p(x_i| c_k)\n",
        "$$\n",
        "i.e., the $k$ that maximises this quantity.\n",
        "\n",
        "In practice, multiplying all the $p(x_i| c_k)$ together is going to give some very small values. Therefore, we can take the log to make it easier to compute:\n",
        "\\begin{align}\n",
        "\\hat{y} &= \\text{argmax}_k p(c_k)\\prod_i p(x_i| c_k)= \\text{argmax}_k log(p(c_k)\\prod_i p(x_i| c_k))\\\\\n",
        "&=\\text{argmax}_k log(p(c_k)) + \\sum_i log(p(x_i|c_k))\n",
        "\\end{align}\n",
        "\n",
        "If we choose that $p(x_i|c_k)$ is given by a normal distribution with mean $\\mu_k$ and variance $\\sigma_k^2$, then we obtain the following expression:\n",
        "\n",
        "\\begin{align}\n",
        "\\hat{y} &=\\text{argmax}_k \\log(p(c_k)) + \\sum_i \\log(p(x_i|c_k))\\\\\n",
        "&= \\text{argmax}_k \\log(p(c_k)) + \\sum_i \\log\\left(\\frac{1}{\\sigma_k\\sqrt{2\\pi}} exp\\left(\\frac{-(x-\\mu_k)^2}{2\\sigma_k}\\right)\\right)\\\\\n",
        "&= \\text{argmax}_k \\log(p(c_k)) - \\sum_i \\log\\left(\\sigma_k\\sqrt{2\\pi}\\right) - \\sum_i\\left(\\frac{(x-\\mu_k)^2}{2\\sigma_k}\\right) \\quad \\text{ log-likelihood}\n",
        "\\end{align}\n",
        "\n",
        "Expressing the values in terms of these sums means that they do not get so small, and it is less likely that there will be errors at the machine precision level.\n",
        "\n",
        "\n",
        "How do we implement this in practice? We assume that each probability $p(x_i| c_k)$ is given by some distribution, and then given a datapoint $\\vec{x}$, we plug the value into the equation for the distribution.\n",
        "\n",
        "In this question you will (a) implement your own version of the Gaussian naive Bayes classifier, (b) check your classifier against the implementation in sci-kit learn, (c) compare the accuracy of the naive Bayes classifier with the accuracy of the k-nearest neighbours classifier, and (d) run cross-validation to verify whether the kNN classfier or the Gaussian naive Bayes classifier performs better on this dataset.\n",
        "\n",
        "## Part (a) Implementing Gaussian naive Bayes\n",
        "For this question we will make the assumption that each feature is described by a normal (also called Gaussian) distribution. The procedure is as follows:\n",
        "1. Divide the training data by class\n",
        "2. Calculate mean and standard deviation per class and per feature\n",
        "4. For each datapoint in the validation set, calculate the log-likelihood for each class and for each feature (Hint: use the function `scipy.stats.norm.logpdf`)\n",
        "5. Combine these values together with the probability of the class according to the log-likelihood equation above\n",
        "6. Choose the class with the highest value\n"
      ]
    },
    {
      "cell_type": "code",
      "metadata": {
        "id": "ecaoGtJjWxbH"
      },
      "source": [
        "##TODO##\n",
        "# Write your own implementation of naive Bayes applied to the breast cancer dataset.\n",
        "\n",
        "# If you wish you can follow the structure below\n",
        "from scipy.stats import norm\n",
        "from math import exp\n",
        "from math import pi\n",
        "\n",
        "# Split the training data Xtr into training and validation sets with an 80:20 split. \n",
        "# Set the random state to help with reproducibility\n",
        "##TODO##\n",
        "Xtrain, Xval, Ytrain, Yval = train_test_split(Xtr, Ytr, test_size = 0.2, random_state = 41)\n",
        "\n",
        "#Separate the training set into classes, so you have one set of data for each class\n",
        "##TODO##\n",
        "def separate_by_class(data, labels):\n",
        "  separated = dict()\n",
        "  for i in range(len(data)):\n",
        "    vector = data[i]\n",
        "    class_val = labels[i]\n",
        "    if (class_val not in separated):\n",
        "      separated[class_val] = list()\n",
        "\n",
        "    separated[class_val].append(vector)\n",
        "\n",
        "  return separated\n",
        "\n",
        "\"\"\"\n",
        "for label in separated:\n",
        "\tprint(label)\n",
        "\tfor row in separated[label]:\n",
        "\t\tprint(row)\n",
        "\"\"\"\n",
        "\n",
        "# Calculate the means and standard deviations for each class, for each feature. \n",
        "# There are 30 features in the dataset, so you should have a 30-dimensional \n",
        "# array of means for each class and a 30-dimensional array of standard deviations\n",
        "# for each class. Remember that you can take the average across rows or columns of \n",
        "# a matrix by specifying axis = 1 or axis = 0\n",
        "##TODO##\n",
        "\n",
        "def calc_mean(data):\n",
        "  return sum(data) / float(len(data))\n",
        "\n",
        "from math import sqrt\n",
        "\n",
        "def calc_sd(data):\n",
        "  avg = calc_mean(data)\n",
        "  variance = sum([(x-avg)**2 for x in data]) /float(len(data)-1)\n",
        "  return sqrt(variance)\n",
        "\n",
        "def summarize(data):\n",
        "  summaries = [(calc_mean(col), calc_sd(col)) for col in zip(*data)]\n",
        "  return summaries\n",
        "\n",
        "def summarize_by_class(sep):\n",
        "  summaries = dict()\n",
        "  for class_val, rows in sep.items():\n",
        "    summaries[class_val] = summarize(rows)\n",
        "  \n",
        "  return summaries\n",
        "\n",
        "\"\"\"\n",
        "for label in summary:\n",
        "\tprint(label)\n",
        "\tfor row in summary[label]:\n",
        "\t\tprint(row)\n",
        "\"\"\"\n",
        "\n",
        "# Calculate the log-likelihood of each class for each datapoint in the validation set\n",
        "# Hint: you can use the function scipy.stats.norm.logpdf to help with this\n",
        "##TODO##\n",
        "def calculate_log_likelihood(x, mean, sd):\n",
        "  expo = exp(-((x-mean)**2 / (2 * sd ** 2)))\n",
        "  return (1 / (sqrt(2 * pi) * sd)) * expo\n",
        "\n",
        "# Calculate the prior probability p(c_i) for each class\n",
        "##TODO##\n",
        "def calculate_class_probs(summaries, row):\n",
        "  probs = {}\n",
        "  for class_val, class_summaries in summaries.items():\n",
        "    probs[class_val] = 1\n",
        "    for i in range(len(class_summaries)):\n",
        "      mean, sd = class_summaries[i]\n",
        "      probs[class_val] *= calculate_log_likelihood(row[i], mean, sd)\n",
        "  \n",
        "  return probs\n",
        "\n",
        "# Your predicted class is 0 if class 0 has the highest log-likelihood, and 1 if class 1 \n",
        "# has the highest log-likelihood\n",
        "##TODO##\n",
        "def predict_nb(summaries, row):\n",
        "  probs = calculate_class_probs(summaries, row)\n",
        "  best_label, best_prob = None, -1\n",
        "  for class_val, prob in probs.items():\n",
        "    if best_label is None or prob > best_prob:\n",
        "      best_prob = prob\n",
        "      best_label = class_val\n",
        "  \n",
        "  return(best_label)\n",
        "\n",
        "def naive_bayes(Xtrain, Ytrain, Xval, Yval):\n",
        "  separated = separate_by_class(Xtrain, Ytrain)\n",
        "  summary = summarize_by_class(separated)\n",
        "  predictions = list()\n",
        "  for row in Xval:\n",
        "    y_val_pred = predict_nb(summary, row)\n",
        "    predictions.append(y_val_pred)\n",
        "  \n",
        "  return predictions\n",
        "\n",
        "implemented_predicts = naive_bayes(Xtrain, Ytrain, Xval, Yval)"
      ],
      "execution_count": 11,
      "outputs": []
    },
    {
      "cell_type": "markdown",
      "metadata": {
        "id": "U1pqW3jyWxbH"
      },
      "source": [
        "## Part (b) Checking results\n",
        "We now compare our results with the sklearn implementation. "
      ]
    },
    {
      "cell_type": "code",
      "metadata": {
        "colab": {
          "base_uri": "https://localhost:8080/"
        },
        "id": "WbAAypdZWxbI",
        "outputId": "70116d21-3716-4398-f9ae-24cb6eaf0588"
      },
      "source": [
        "##Import the classifier GaussianNB from sklearn.naive_bayes\n",
        "from sklearn.naive_bayes import GaussianNB\n",
        "# Instantiate the classifier (use the parameter var_smoothing=0.0),\n",
        "# fit, and predict the classes\n",
        "##TODO##\n",
        "clf = GaussianNB(var_smoothing = 0)\n",
        "\n",
        "clf.fit(Xtrain, Ytrain)\n",
        "built_in_nb_predicts = clf.predict(Xval)\n",
        "\n",
        "built_in_nb_acc = metrics.accuracy_score(Yval, built_in_nb_predicts)\n",
        "print(\"Validation accuracy for built in:\", built_in_nb_acc)\n",
        "\n",
        "implemented_nb_acc = metrics.accuracy_score(Yval, implemented_predicts)\n",
        "print(\"Validation accuracy for manual implementation:\", implemented_nb_acc)"
      ],
      "execution_count": 12,
      "outputs": [
        {
          "output_type": "stream",
          "text": [
            "Validation accuracy for built in: 0.9230769230769231\n",
            "Validation accuracy for manual implementation: 0.9230769230769231\n"
          ],
          "name": "stdout"
        }
      ]
    },
    {
      "cell_type": "code",
      "metadata": {
        "colab": {
          "base_uri": "https://localhost:8080/"
        },
        "id": "WhsNz1n0WxbI",
        "outputId": "c8cd895d-f5fa-4cc9-b709-1aa872cd8e46"
      },
      "source": [
        "# Compare your predicted classes with those of the sklearn implementation.\n",
        "# If they are not identical, this may be due to some differences in parameter setting. \n",
        "# They should be almost all the same, however.\n",
        "##TODO##\n",
        "print(built_in_nb_predicts == implemented_predicts)"
      ],
      "execution_count": 13,
      "outputs": [
        {
          "output_type": "stream",
          "text": [
            "[ True  True  True  True  True  True  True  True  True  True  True  True\n",
            "  True  True  True  True  True  True  True  True  True  True  True  True\n",
            "  True  True  True  True  True  True  True  True  True  True  True  True\n",
            "  True  True  True  True  True  True  True  True  True  True  True  True\n",
            "  True  True  True  True  True  True  True  True  True  True  True  True\n",
            "  True  True  True  True  True  True  True  True  True  True  True  True\n",
            "  True  True  True  True  True  True  True  True  True  True  True  True\n",
            "  True  True  True  True  True  True  True]\n"
          ],
          "name": "stdout"
        }
      ]
    },
    {
      "cell_type": "markdown",
      "metadata": {
        "id": "Cpp175kMWxbJ"
      },
      "source": [
        "## Part (c) Comparing k-nearest neighbours and Gaussian naive Bayes\n",
        "Now retrain the naive Bayes classifier using the original training set `Xtr`, `Ytr`.\n",
        "Also, retrain the k-nearest neighbours classifier using `Xtr` and `Ytr`. Use the value of $k$ that you decided on using cross-validation.\n",
        "You can use the sklearn implementations of knn and naive Bayes.\n",
        "\n",
        "Compute the accuracy of the naive Bayes classifier over the training set and the held-out test set.\n",
        "\n",
        "Compare with the accuracy of the k-nearest neighbours classifier on each set.\n",
        "\n",
        "Is it clear which classifier is the best on this dataset? why or why not?"
      ]
    },
    {
      "cell_type": "code",
      "metadata": {
        "scrolled": false,
        "colab": {
          "base_uri": "https://localhost:8080/"
        },
        "id": "VeO9QQVBWxbJ",
        "outputId": "6f8bf142-16b9-4ce8-a84f-f69de94ae2a4"
      },
      "source": [
        "# Instantiate the knn classifer with your chosen value of k\n",
        "##TODO##\n",
        "knn_classifier = KNeighborsClassifier(n_neighbors = 6)\n",
        "knn_classifier.fit(Xtr, Ytr)\n",
        "\n",
        "# Fit the Gaussian naive Bayes classifier and the knn classifier on Xtr, Ytr\n",
        "##TODO##\n",
        "nb_classifier = GaussianNB(var_smoothing=0)\n",
        "nb_classifier.fit(Xtr, Ytr)\n",
        "\n",
        "# Make predictions for the training set and the test set\n",
        "##TODO##\n",
        "predict_y_trn_knn = knn_classifier.predict(Xtr)\n",
        "predict_y_test_knn = knn_classifier.predict(Xtest)\n",
        "\n",
        "predict_y_trn_nb = nb_classifier.predict(Xtr)\n",
        "predict_y_test_nb = nb_classifier.predict(Xtest)\n",
        "\n",
        "# Take a look at the accuracy scores\n",
        "##TODO##\n",
        "knn_train_acc = metrics.accuracy_score(Ytr, predict_y_trn_knn)\n",
        "knn_test_acc = metrics.accuracy_score(Ytest, predict_y_test_knn)\n",
        "\n",
        "nb_train_acc = metrics.accuracy_score(Ytr, predict_y_trn_nb)\n",
        "nb_test_acc = metrics.accuracy_score(Ytest, predict_y_test_nb)\n",
        "\n",
        "print(\"KNN: Training acc:\", knn_train_acc, \" Test acc:\", knn_test_acc)\n",
        "print(\"NB: Training acc:\", nb_train_acc,\" Test acc:\", nb_test_acc)\n",
        "\n",
        "# The Naive Bayes classifier gives a better accuracy on the test set which is the\n",
        "# better accuracy to go off of. While the KNN classifier has a better accuracy on\n",
        "# the training data, it is the less valuable metric. "
      ],
      "execution_count": 14,
      "outputs": [
        {
          "output_type": "stream",
          "text": [
            "KNN: Training acc: 0.9384615384615385  Test acc: 0.9473684210526315\n",
            "NB: Training acc: 0.9274725274725275  Test acc: 0.9649122807017544\n"
          ],
          "name": "stdout"
        }
      ]
    },
    {
      "cell_type": "markdown",
      "metadata": {
        "id": "jVagFvJxWxbK"
      },
      "source": [
        "## Part (d) Using cross-validation for statistical validation\n",
        "Earlier we used cross-validation to select the model parameters we would be using. We can also use it another way: to provide statistical information about which model is best. We will set up cross-validation on the whole dataset, with 10 folds.\n",
        "\n",
        " - Compute the accuracy for each model on the test set on each fold.\n",
        " - Calculate the mean accuracy across folds. Which model performs best?\n",
        " - Make a box-plot of the spread of scores of each model. Is there a clear difference between model performance?\n",
        " - Perform a paired t-test on the accuracy scores. What can you conclude about the performance of the two models?\n"
      ]
    },
    {
      "cell_type": "code",
      "metadata": {
        "colab": {
          "base_uri": "https://localhost:8080/"
        },
        "id": "yPBzHH3sWxbK",
        "outputId": "ed865606-dd25-469a-ebca-fb68598779f2"
      },
      "source": [
        "# Set up a k-fold cross-validation with 10 folds\n",
        "##TODO##\n",
        "kf = KFold(n_splits = 10, random_state = 56)"
      ],
      "execution_count": 15,
      "outputs": [
        {
          "output_type": "stream",
          "text": [
            "/usr/local/lib/python3.6/dist-packages/sklearn/model_selection/_split.py:296: FutureWarning: Setting a random_state has no effect since shuffle is False. This will raise an error in 0.24. You should leave random_state to its default (None), or set shuffle=True.\n",
            "  FutureWarning\n"
          ],
          "name": "stderr"
        }
      ]
    },
    {
      "cell_type": "code",
      "metadata": {
        "id": "KiA7IAzMWxbK"
      },
      "source": [
        "# For each fold, fit each model on the training data \n",
        "# and compute accuracy on the test data.\n",
        "##TODO##\n",
        "test_accs_knn = []\n",
        "test_accs_nb = []\n",
        "\n",
        "final_knn_classifier = KNeighborsClassifier(n_neighbors=6)\n",
        "final_nb_classifier = GaussianNB(var_smoothing=0)\n",
        "\n",
        "for train_idx, test_idx in kf.split(X):\n",
        "  Xtrain, Xtest = X[train_idx], X[test_idx]\n",
        "  Ytrain, Ytest = Y[train_idx], Y[test_idx]\n",
        "\n",
        "  final_knn_classifier.fit(Xtrain, Ytrain)\n",
        "  final_nb_classifier.fit(Xtrain, Ytrain)\n",
        "        \n",
        "  # make predictions \n",
        "  ##TODO##\n",
        "  knn_y_pred = final_knn_classifier.predict(Xtest)\n",
        "  nb_y_pred = final_nb_classifier.predict(Xtest)\n",
        "\n",
        "  # calculate test accuracy and store \n",
        "  ##TODO##\n",
        "  test_accs_knn.append(metrics.accuracy_score(Ytest, knn_y_pred))\n",
        "  test_accs_nb.append(metrics.accuracy_score(Ytest, nb_y_pred))\n"
      ],
      "execution_count": 16,
      "outputs": []
    },
    {
      "cell_type": "code",
      "metadata": {
        "colab": {
          "base_uri": "https://localhost:8080/"
        },
        "id": "Jlg1Vfi4WxbL",
        "outputId": "0071c7d2-32a9-4ac3-84f2-1b3bd516e516"
      },
      "source": [
        "# Compute the mean and standard devation of the accuracies for each model.\n",
        "# Does one model perform better?\n",
        "##TODO##\n",
        "knn_test_acc_mean = np.mean(test_accs_knn) \n",
        "nb_test_acc_mean = np.mean(test_accs_nb)\n",
        "\n",
        "knn_test_acc_sd = np.std(test_accs_knn)\n",
        "nb_test_acc_sd = np.std(test_accs_nb)\n",
        "\n",
        "print(\"KNN average test acc:\", knn_test_acc_mean)\n",
        "print(\"NB average test acc:\", nb_test_acc_mean)\n",
        "\n",
        "print(\"KNN test acc sd:\", knn_test_acc_sd)\n",
        "print(\"NB test acc sd:\", nb_test_acc_sd)"
      ],
      "execution_count": 17,
      "outputs": [
        {
          "output_type": "stream",
          "text": [
            "KNN average test acc: 0.9244674185463658\n",
            "NB average test acc: 0.9262218045112782\n",
            "KNN test acc sd: 0.04835340341536581\n",
            "NB test acc sd: 0.03741164269199176\n"
          ],
          "name": "stdout"
        }
      ]
    },
    {
      "cell_type": "code",
      "metadata": {
        "colab": {
          "base_uri": "https://localhost:8080/",
          "height": 282
        },
        "id": "rF9dtRmtWxbL",
        "outputId": "c9244a7b-90c0-4ff6-e8d4-602f0e06c51f"
      },
      "source": [
        "# Make a boxplot of the accuracy scores. (Use plt.boxplot). \n",
        "# Is there a clear difference between the models?\n",
        "##TODO##\n",
        "to_plot = [test_accs_knn, test_accs_nb]\n",
        "\n",
        "fig, ax = plt.subplots()\n",
        "ax.boxplot(to_plot)\n",
        "ax.set_xticklabels([\"KNN\", \"NB\"])\n",
        "\n",
        "# The mean accuracies of the two models are very similar but NB is generally more consistent\n",
        "# Both models have very similar upper accuracies that can be achieved but KNN had \n",
        "# The lowest value of the two."
      ],
      "execution_count": 18,
      "outputs": [
        {
          "output_type": "execute_result",
          "data": {
            "text/plain": [
              "[Text(0, 0, 'KNN'), Text(0, 0, 'NB')]"
            ]
          },
          "metadata": {
            "tags": []
          },
          "execution_count": 18
        },
        {
          "output_type": "display_data",
          "data": {
            "image/png": "[encoded data removed]",
            "text/plain": [
              "<Figure size 432x288 with 1 Axes>"
            ]
          },
          "metadata": {
            "tags": [],
            "needs_background": "light"
          }
        }
      ]
    },
    {
      "cell_type": "code",
      "metadata": {
        "colab": {
          "base_uri": "https://localhost:8080/"
        },
        "id": "6K6HeY8uWxbL",
        "outputId": "ad8c0d51-5a36-463e-c0b6-8b9989a6e03c"
      },
      "source": [
        "# Perform a paired t-test (you can use the function scipy.stats.ttest_rel). \n",
        "# What do you conclude about the performance of the two models?\n",
        "##TODO##\n",
        "from scipy import stats\n",
        "\n",
        "stats.ttest_rel(test_accs_knn, test_accs_nb)\n",
        "# assume an alpha value of 0.05\n",
        "# With a p-value of 0.919, this is incredibly far off the alpha value of 0.05\n",
        "# We can conclusively say that there is no statistically signficant difference\n",
        "# between the effectiveness of the two classifiers"
      ],
      "execution_count": 19,
      "outputs": [
        {
          "output_type": "execute_result",
          "data": {
            "text/plain": [
              "Ttest_relResult(statistic=-0.10419430674707786, pvalue=0.9193001605502058)"
            ]
          },
          "metadata": {
            "tags": []
          },
          "execution_count": 19
        }
      ]
    },
    {
      "cell_type": "markdown",
      "metadata": {
        "id": "mTzC93uAWxbL"
      },
      "source": [
        "## Linear Regression\n",
        "In linear regression we make the assumption that the data $(x_i, y_i)$ can be modelled by a function of the form\n",
        "$$ \\hat{y_i} = f(\\vec{x}_i)= \\sum_j a_j x_{ij}  + b_i$$\n",
        "\n",
        "Recall that we can express this in a matrix format by:\n",
        "$$ \\hat{\\vec{y}} = f(X)= X\\Theta$$\n",
        "\n",
        "where \n",
        "$$ X=\\begin{pmatrix}\n",
        "x_{1,1} & x_{1,2} & \\ldots & x_{1,n} &1 \\\\\n",
        "\\vdots & \\vdots & \\ldots & \\vdots & \\vdots \\\\\n",
        "x_{N,1} & x_{N,2} & \\ldots & x_{N,n} & 1\n",
        "\\end{pmatrix}, \\quad \\vec{y}=\\begin{pmatrix} y_1 \\\\ \\vdots \\\\y_N \\end{pmatrix}, \\quad \\Theta=\\begin{pmatrix} a_1 \\\\ \\vdots \\\\a_n\\\\b \\end{pmatrix}$$\n",
        "\n",
        "We saw in lectures that the optimal value of $\\Theta$ is given by setting\n",
        "$$ \\Theta = (X^T X)^{-1} X^T \\vec{y}$$\n",
        "\n",
        "The quantity $(X^T X)^{-1} X^T$ is called the psuedoinverse of X, and can be computed using the function `np.linalg.pinv`.\n",
        "\n",
        "We will (a) perform a linear regression on the diabetes dataset. You can load this dataset using the function `load_diabetes` from `sklearn.datasets`. (b) compute the mean squared error and the R^2, and (c) compare your results with the built in function in sklearn (`sklearn.linear_model.LinearRegresion()`). You should get the same results."
      ]
    },
    {
      "cell_type": "code",
      "metadata": {
        "id": "H7sXSWpSWxbM"
      },
      "source": [
        "# import statments here\n",
        "from sklearn import datasets, linear_model\n",
        "from sklearn.model_selection import train_test_split\n",
        "from sklearn.metrics import mean_squared_error, r2_score"
      ],
      "execution_count": 20,
      "outputs": []
    },
    {
      "cell_type": "markdown",
      "metadata": {
        "id": "XB-OsvTiWxbM"
      },
      "source": [
        "## Part (a) Implementing linear regression"
      ]
    },
    {
      "cell_type": "code",
      "metadata": {
        "id": "I5r34x6NWxbM"
      },
      "source": [
        "# Load the diabetes dataset \n",
        "##TODO##\n",
        "diabetus_data = datasets.load_diabetes()\n",
        "X = diabetus_data.data\n",
        "Y = diabetus_data.target\n",
        "\n",
        "# Split the dataset into training and test, using test_size=0.2\n",
        "##TODO##\n",
        "Xtrain, Xtest, Ytrain, Ytest = train_test_split(X, Y, test_size = 0.2, random_state = 42)"
      ],
      "execution_count": 21,
      "outputs": []
    },
    {
      "cell_type": "code",
      "metadata": {
        "colab": {
          "base_uri": "https://localhost:8080/"
        },
        "id": "8Cw09M30WxbM",
        "outputId": "b5ac87a4-f7ee-4463-f2c6-66dda9764207"
      },
      "source": [
        "# Add a column of ones to Xtrain and Xtest for the intercept term\n",
        "##TODO##\n",
        "np.concatenate([Xtrain, np.ones((Xtrain.shape[0],1),dtype=Xtrain.dtype)], axis=1)\n",
        "np.concatenate([Xtest, np.ones((Xtest.shape[0],1),dtype=Xtest.dtype)], axis=1)"
      ],
      "execution_count": 22,
      "outputs": [
        {
          "output_type": "execute_result",
          "data": {
            "text/plain": [
              "array([[ 4.53409833e-02, -4.46416365e-02, -6.20595414e-03,\n",
              "        -1.59992226e-02,  1.25018703e-01,  1.25198101e-01,\n",
              "         1.91869970e-02,  3.43088589e-02,  3.24332258e-02,\n",
              "        -5.21980442e-03,  1.00000000e+00],\n",
              "       [ 9.25639832e-02, -4.46416365e-02,  3.69065288e-02,\n",
              "         2.18723550e-02, -2.49601584e-02, -1.66581521e-02,\n",
              "         7.78807997e-04, -3.94933829e-02, -2.25121719e-02,\n",
              "        -2.17882321e-02,  1.00000000e+00],\n",
              "       [ 6.35036756e-02,  5.06801187e-02, -4.05032999e-03,\n",
              "        -1.25563519e-02,  1.03003457e-01,  4.87898765e-02,\n",
              "         5.60033751e-02, -2.59226200e-03,  8.44952822e-02,\n",
              "        -1.76461252e-02,  1.00000000e+00],\n",
              "       [ 9.61965216e-02, -4.46416365e-02,  5.19958979e-02,\n",
              "         7.92535333e-02,  5.48451074e-02,  3.65770865e-02,\n",
              "        -7.65355859e-02,  1.41322109e-01,  9.86463743e-02,\n",
              "         6.10539062e-02,  1.00000000e+00],\n",
              "       [ 1.26481373e-02,  5.06801187e-02, -2.02175111e-02,\n",
              "        -2.22773986e-03,  3.83336731e-02,  5.31739549e-02,\n",
              "        -6.58446761e-03,  3.43088589e-02, -5.14530798e-03,\n",
              "        -9.36191133e-03,  1.00000000e+00],\n",
              "       [ 9.01559883e-03, -4.46416365e-02, -2.45287594e-02,\n",
              "        -2.63278347e-02,  9.88755988e-02,  9.41964034e-02,\n",
              "         7.07299263e-02, -2.59226200e-03, -2.13936809e-02,\n",
              "         7.20651633e-03,  1.00000000e+00],\n",
              "       [-9.14709343e-03,  5.06801187e-02,  1.70555226e-01,\n",
              "         1.49866136e-02,  3.00779559e-02,  3.37587503e-02,\n",
              "        -2.13110188e-02,  3.43088589e-02,  3.36568129e-02,\n",
              "         3.20591578e-02,  1.00000000e+00],\n",
              "       [-2.36772472e-02,  5.06801187e-02,  4.55290254e-02,\n",
              "         2.18723550e-02,  1.09883222e-01,  8.88728796e-02,\n",
              "         7.78807997e-04,  3.43088589e-02,  7.41925367e-02,\n",
              "         6.10539062e-02,  1.00000000e+00],\n",
              "       [-9.26954778e-02,  5.06801187e-02, -9.02752959e-02,\n",
              "        -5.73136710e-02, -2.49601584e-02, -3.04366844e-02,\n",
              "        -6.58446761e-03, -2.59226200e-03,  2.40525832e-02,\n",
              "         3.06440941e-03,  1.00000000e+00],\n",
              "       [-6.00026317e-02,  5.06801187e-02,  1.53502873e-02,\n",
              "        -1.94420933e-02,  3.69577202e-02,  4.81635795e-02,\n",
              "         1.91869970e-02, -2.59226200e-03, -3.07512099e-02,\n",
              "        -1.07769750e-03,  1.00000000e+00],\n",
              "       [-4.18399395e-02, -4.46416365e-02, -3.31512560e-02,\n",
              "        -2.28849640e-02,  4.65893902e-02,  4.15874618e-02,\n",
              "         5.60033751e-02, -2.47329345e-02, -2.59524244e-02,\n",
              "        -3.83566597e-02,  1.00000000e+00],\n",
              "       [ 5.38306037e-03, -4.46416365e-02, -5.79409337e-02,\n",
              "        -2.28849640e-02, -6.76146970e-02, -6.83276482e-02,\n",
              "        -5.44457591e-02, -2.59226200e-03,  4.28956879e-02,\n",
              "        -8.39198358e-02,  1.00000000e+00],\n",
              "       [-8.90629394e-02, -4.46416365e-02, -6.11743699e-02,\n",
              "        -2.63278347e-02, -5.52311213e-02, -5.45491159e-02,\n",
              "         4.12768238e-02, -7.63945038e-02, -9.39356455e-02,\n",
              "        -5.49250874e-02,  1.00000000e+00],\n",
              "       [ 1.99132142e-02,  5.06801187e-02,  1.42724753e-02,\n",
              "         6.31868033e-02,  1.49424745e-02,  2.02933664e-02,\n",
              "        -4.70824835e-02,  3.43088589e-02,  4.66607724e-02,\n",
              "         9.00486546e-02,  1.00000000e+00],\n",
              "       [-1.27796319e-02,  5.06801187e-02, -5.57853095e-02,\n",
              "        -2.22773986e-03, -2.77120641e-02, -2.91840905e-02,\n",
              "         1.91869970e-02, -3.94933829e-02, -1.70521046e-02,\n",
              "         4.44854786e-02,  1.00000000e+00],\n",
              "       [-3.45748626e-02,  5.06801187e-02,  5.64997868e-03,\n",
              "        -5.67061055e-03, -7.31185084e-02, -6.26909759e-02,\n",
              "        -6.58446761e-03, -3.94933829e-02, -4.54209578e-02,\n",
              "         3.20591578e-02,  1.00000000e+00],\n",
              "       [ 4.17084449e-02,  5.06801187e-02,  7.13965152e-02,\n",
              "         8.10087222e-03,  3.83336731e-02,  1.59092880e-02,\n",
              "        -1.76293810e-02,  3.43088589e-02,  7.34100780e-02,\n",
              "         8.59065477e-02,  1.00000000e+00],\n",
              "       [ 6.35036756e-02,  5.06801187e-02,  8.86415084e-02,\n",
              "         7.00725447e-02,  2.04462859e-02,  3.75165318e-02,\n",
              "        -5.07641213e-02,  7.12099798e-02,  2.93004133e-02,\n",
              "         7.34802270e-02,  1.00000000e+00],\n",
              "       [-3.09423241e-02,  5.06801187e-02,  2.82840322e-02,\n",
              "         7.00725447e-02, -1.26780670e-01, -1.06844909e-01,\n",
              "        -5.44457591e-02, -4.79806407e-02, -3.07512099e-02,\n",
              "         1.54907302e-02,  1.00000000e+00],\n",
              "       [ 4.89735218e-02,  5.06801187e-02,  5.84627703e-02,\n",
              "         7.00725447e-02,  1.35665216e-02,  2.06065149e-02,\n",
              "        -2.13110188e-02,  3.43088589e-02,  2.20040505e-02,\n",
              "         2.79170509e-02,  1.00000000e+00],\n",
              "       [-7.09002471e-02, -4.46416365e-02,  3.90621530e-02,\n",
              "        -3.32135761e-02, -1.25765827e-02, -3.45076144e-02,\n",
              "        -2.49926566e-02, -2.59226200e-03,  6.77363261e-02,\n",
              "        -1.35040182e-02,  1.00000000e+00],\n",
              "       [ 4.89735218e-02, -4.46416365e-02, -4.28515646e-02,\n",
              "        -5.38708003e-02,  4.52134374e-02,  5.00424703e-02,\n",
              "         3.39135482e-02, -2.59226200e-03, -2.59524244e-02,\n",
              "        -6.32093012e-02,  1.00000000e+00],\n",
              "       [-4.18399395e-02, -4.46416365e-02, -4.93184371e-02,\n",
              "        -3.66564468e-02, -7.07277125e-03, -2.26079728e-02,\n",
              "         8.54564775e-02, -3.94933829e-02, -6.64881482e-02,\n",
              "         7.20651633e-03,  1.00000000e+00],\n",
              "       [ 5.98711371e-02,  5.06801187e-02,  2.28949719e-02,\n",
              "         4.94153205e-02,  1.63184273e-02,  1.18383580e-02,\n",
              "        -1.39477432e-02, -2.59226200e-03,  3.95398781e-02,\n",
              "         1.96328371e-02,  1.00000000e+00],\n",
              "       [-6.00026317e-02, -4.46416365e-02,  4.44512133e-02,\n",
              "        -1.94420933e-02, -9.82467697e-03, -7.57684666e-03,\n",
              "         2.28686348e-02, -3.94933829e-02, -2.71286456e-02,\n",
              "        -9.36191133e-03,  1.00000000e+00],\n",
              "       [ 4.17084449e-02,  5.06801187e-02,  1.42724753e-02,\n",
              "         4.25295792e-02, -3.04639698e-02, -1.31387743e-03,\n",
              "        -4.34008457e-02, -2.59226200e-03, -3.32487872e-02,\n",
              "         1.54907302e-02,  1.00000000e+00],\n",
              "       [ 3.08108295e-02,  5.06801187e-02,  5.95405824e-02,\n",
              "         5.63010619e-02, -2.22082527e-02,  1.19131027e-03,\n",
              "        -3.23559322e-02, -2.59226200e-03, -2.47911874e-02,\n",
              "        -1.76461252e-02,  1.00000000e+00],\n",
              "       [ 3.80759064e-02,  5.06801187e-02, -1.80618869e-02,\n",
              "         6.66296740e-02, -5.11032627e-02, -1.66581521e-02,\n",
              "        -7.65355859e-02,  3.43088589e-02, -1.19006848e-02,\n",
              "        -1.35040182e-02,  1.00000000e+00],\n",
              "       [-5.63700933e-02, -4.46416365e-02, -7.41081148e-02,\n",
              "        -5.04279296e-02, -2.49601584e-02, -4.70335528e-02,\n",
              "         9.28197531e-02, -7.63945038e-02, -6.11765951e-02,\n",
              "        -4.66408736e-02,  1.00000000e+00],\n",
              "       [ 1.62806757e-02,  5.06801187e-02, -2.12953232e-02,\n",
              "        -9.11348125e-03,  3.42058145e-02,  4.78504311e-02,\n",
              "         7.78807997e-04, -2.59226200e-03, -1.29079423e-02,\n",
              "         2.37749440e-02,  1.00000000e+00],\n",
              "       [ 2.71782911e-02, -4.46416365e-02,  9.29527567e-02,\n",
              "        -5.27231767e-02,  8.06271019e-03,  3.97085711e-02,\n",
              "        -2.86742944e-02,  2.10244554e-02, -4.83617248e-02,\n",
              "         1.96328371e-02,  1.00000000e+00],\n",
              "       [-1.03593093e-01, -4.46416365e-02, -3.74625043e-02,\n",
              "        -2.63278347e-02,  2.55889875e-03,  1.99802180e-02,\n",
              "         1.18237214e-02, -2.59226200e-03, -6.83297436e-02,\n",
              "        -2.59303390e-02,  1.00000000e+00],\n",
              "       [-1.88201653e-03,  5.06801187e-02,  1.42724753e-02,\n",
              "        -7.45280244e-02,  2.55889875e-03,  6.20168566e-03,\n",
              "        -1.39477432e-02, -2.59226200e-03,  1.91990331e-02,\n",
              "         3.06440941e-03,  1.00000000e+00],\n",
              "       [ 2.71782911e-02,  5.06801187e-02, -6.20595414e-03,\n",
              "         2.87580964e-02, -1.67044413e-02, -1.62702589e-03,\n",
              "        -5.81273969e-02,  3.43088589e-02,  2.93004133e-02,\n",
              "         3.20591578e-02,  1.00000000e+00],\n",
              "       [ 9.61965216e-02, -4.46416365e-02,  4.01399650e-02,\n",
              "        -5.73136710e-02,  4.52134374e-02,  6.06895180e-02,\n",
              "        -2.13110188e-02,  3.61539149e-02,  1.25531528e-02,\n",
              "         2.37749440e-02,  1.00000000e+00],\n",
              "       [-7.81653240e-02,  5.06801187e-02,  7.78633876e-02,\n",
              "         5.28581912e-02,  7.82363060e-02,  6.44472995e-02,\n",
              "         2.65502726e-02, -2.59226200e-03,  4.06722637e-02,\n",
              "        -9.36191133e-03,  1.00000000e+00],\n",
              "       [-9.14709343e-03,  5.06801187e-02, -3.09956318e-02,\n",
              "        -2.63278347e-02, -1.12006298e-02, -1.00072896e-03,\n",
              "        -2.13110188e-02, -2.59226200e-03,  6.20931562e-03,\n",
              "         2.79170509e-02,  1.00000000e+00],\n",
              "       [-1.88201653e-03,  5.06801187e-02, -3.31512560e-02,\n",
              "        -1.82944698e-02,  3.14539088e-02,  4.28400557e-02,\n",
              "        -1.39477432e-02,  1.99174217e-02,  1.02256424e-02,\n",
              "         2.79170509e-02,  1.00000000e+00],\n",
              "       [ 6.71362140e-02,  5.06801187e-02, -3.09956318e-02,\n",
              "         4.65800153e-03,  2.45741445e-02,  3.56376411e-02,\n",
              "        -2.86742944e-02,  3.43088589e-02,  2.33748413e-02,\n",
              "         8.17644408e-02,  1.00000000e+00],\n",
              "       [ 1.99132142e-02, -4.46416365e-02, -5.79409337e-02,\n",
              "        -5.73136710e-02, -1.56895982e-03, -1.25872221e-02,\n",
              "         7.44115641e-02, -3.94933829e-02, -6.11765951e-02,\n",
              "        -7.56356220e-02,  1.00000000e+00],\n",
              "       [-1.88201653e-03, -4.46416365e-02, -6.97968665e-02,\n",
              "        -1.25563519e-02, -1.93006962e-04, -9.14258897e-03,\n",
              "         7.07299263e-02, -3.94933829e-02, -6.29129499e-02,\n",
              "         4.03433716e-02,  1.00000000e+00],\n",
              "       [ 6.71362140e-02,  5.06801187e-02, -2.99178198e-02,\n",
              "         5.74486854e-02, -1.93006962e-04, -1.57187067e-02,\n",
              "         7.44115641e-02, -5.05637191e-02, -3.84591123e-02,\n",
              "         7.20651633e-03,  1.00000000e+00],\n",
              "       [ 4.17084449e-02,  5.06801187e-02, -2.23731352e-02,\n",
              "         2.87580964e-02, -6.62387442e-02, -4.51546621e-02,\n",
              "        -6.18090347e-02, -2.59226200e-03,  2.86377052e-03,\n",
              "        -5.49250874e-02,  1.00000000e+00],\n",
              "       [ 1.10726675e-01,  5.06801187e-02, -3.31512560e-02,\n",
              "        -2.28849640e-02, -4.32086554e-03,  2.02933664e-02,\n",
              "        -6.18090347e-02,  7.12099798e-02,  1.55668445e-02,\n",
              "         4.44854786e-02,  1.00000000e+00],\n",
              "       [ 4.17084449e-02, -4.46416365e-02, -4.50071888e-02,\n",
              "         3.44962143e-02,  4.38374845e-02, -1.57187067e-02,\n",
              "         3.75951860e-02, -1.44006207e-02,  8.98986933e-02,\n",
              "         7.20651633e-03,  1.00000000e+00],\n",
              "       [-1.64121703e-02, -4.46416365e-02, -3.53068801e-02,\n",
              "        -2.63278347e-02,  3.28298616e-02,  1.71618818e-02,\n",
              "         1.00183029e-01, -3.94933829e-02, -7.02093127e-02,\n",
              "        -7.97777289e-02,  1.00000000e+00],\n",
              "       [-9.63280163e-02, -4.46416365e-02, -3.63846922e-02,\n",
              "        -7.45280244e-02, -3.87196870e-02, -2.76183482e-02,\n",
              "         1.55053592e-02, -3.94933829e-02, -7.40888715e-02,\n",
              "        -1.07769750e-03,  1.00000000e+00],\n",
              "       [ 3.08108295e-02, -4.46416365e-02, -5.03962492e-02,\n",
              "        -2.22773986e-03, -4.42234984e-02, -8.99348921e-02,\n",
              "         1.18591218e-01, -7.63945038e-02, -1.81182673e-02,\n",
              "         3.06440941e-03,  1.00000000e+00],\n",
              "       [-2.00447088e-02, -4.46416365e-02, -8.48862355e-02,\n",
              "        -2.63278347e-02, -3.59677813e-02, -3.41944659e-02,\n",
              "         4.12768238e-02, -5.16707528e-02, -8.23814833e-02,\n",
              "        -4.66408736e-02,  1.00000000e+00],\n",
              "       [-6.00026317e-02, -4.46416365e-02,  1.33873038e-03,\n",
              "        -2.97707054e-02, -7.07277125e-03, -2.16685274e-02,\n",
              "         1.18237214e-02, -2.59226200e-03,  3.18152175e-02,\n",
              "        -5.49250874e-02,  1.00000000e+00],\n",
              "       [ 5.38306037e-03, -4.46416365e-02,  5.84627703e-02,\n",
              "        -4.35421882e-02, -7.31185084e-02, -7.23985783e-02,\n",
              "         1.91869970e-02, -7.63945038e-02, -5.14005353e-02,\n",
              "        -2.59303390e-02,  1.00000000e+00],\n",
              "       [-9.63280163e-02, -4.46416365e-02, -6.97968665e-02,\n",
              "        -6.76422830e-02, -1.94563470e-02, -1.07083313e-02,\n",
              "         1.55053592e-02, -3.94933829e-02, -4.68794828e-02,\n",
              "        -7.97777289e-02,  1.00000000e+00],\n",
              "       [ 2.71782911e-02,  5.06801187e-02,  1.75059115e-02,\n",
              "        -3.32135761e-02, -7.07277125e-03,  4.59715403e-02,\n",
              "        -6.54906725e-02,  7.12099798e-02, -9.64332229e-02,\n",
              "        -5.90671943e-02,  1.00000000e+00],\n",
              "       [ 1.99132142e-02, -4.46416365e-02, -4.06959405e-02,\n",
              "        -1.59992226e-02, -8.44872411e-03, -1.75975974e-02,\n",
              "         5.23217373e-02, -3.94933829e-02, -3.07512099e-02,\n",
              "         3.06440941e-03,  1.00000000e+00],\n",
              "       [-5.27375548e-02,  5.06801187e-02, -1.80618869e-02,\n",
              "         8.04011568e-02,  8.92439288e-02,  1.07661787e-01,\n",
              "        -3.97192078e-02,  1.08111101e-01,  3.60557901e-02,\n",
              "        -4.24987666e-02,  1.00000000e+00],\n",
              "       [-2.73097857e-02, -4.46416365e-02,  6.49296427e-02,\n",
              "        -2.22773986e-03, -2.49601584e-02, -1.72844490e-02,\n",
              "         2.28686348e-02, -3.94933829e-02, -6.11765951e-02,\n",
              "        -6.32093012e-02,  1.00000000e+00],\n",
              "       [-2.36772472e-02, -4.46416365e-02, -4.60850009e-02,\n",
              "        -3.32135761e-02,  3.28298616e-02,  3.62639380e-02,\n",
              "         3.75951860e-02, -2.59226200e-03, -3.32487872e-02,\n",
              "         1.13486232e-02,  1.00000000e+00],\n",
              "       [ 3.80759064e-02,  5.06801187e-02,  6.16962065e-02,\n",
              "         2.18723550e-02, -4.42234984e-02, -3.48207628e-02,\n",
              "        -4.34008457e-02, -2.59226200e-03,  1.99084209e-02,\n",
              "        -1.76461252e-02,  1.00000000e+00],\n",
              "       [-2.73097857e-02, -4.46416365e-02, -1.80618869e-02,\n",
              "        -4.00993175e-02, -2.94491268e-03, -1.13346282e-02,\n",
              "         3.75951860e-02, -3.94933829e-02, -8.94401896e-03,\n",
              "        -5.49250874e-02,  1.00000000e+00],\n",
              "       [-3.82074010e-02, -4.46416365e-02, -5.47074975e-02,\n",
              "        -7.79708951e-02, -3.32158756e-02, -8.64902590e-02,\n",
              "         1.40681045e-01, -7.63945038e-02, -1.91970476e-02,\n",
              "        -5.21980442e-03,  1.00000000e+00],\n",
              "       [-2.36772472e-02, -4.46416365e-02,  3.04396564e-02,\n",
              "        -5.67061055e-03,  8.23641645e-02,  9.20043642e-02,\n",
              "        -1.76293810e-02,  7.12099798e-02,  3.30470724e-02,\n",
              "         3.06440941e-03,  1.00000000e+00],\n",
              "       [-4.18399395e-02, -4.46416365e-02,  4.12177771e-02,\n",
              "        -2.63278347e-02, -3.18399227e-02, -3.04366844e-02,\n",
              "        -3.60375700e-02,  2.94290613e-03,  3.36568129e-02,\n",
              "        -1.76461252e-02,  1.00000000e+00],\n",
              "       [-6.00026317e-02,  5.06801187e-02,  5.41515220e-02,\n",
              "        -1.94420933e-02, -4.97273099e-02, -4.89124436e-02,\n",
              "         2.28686348e-02, -3.94933829e-02, -4.39854026e-02,\n",
              "        -5.21980442e-03,  1.00000000e+00],\n",
              "       [ 1.62806757e-02,  5.06801187e-02, -4.50071888e-02,\n",
              "         6.31868033e-02,  1.08146159e-02, -3.74432041e-04,\n",
              "         6.33666507e-02, -3.94933829e-02, -3.07512099e-02,\n",
              "         3.62012647e-02,  1.00000000e+00],\n",
              "       [-4.18399395e-02, -4.46416365e-02, -6.54856182e-02,\n",
              "        -4.00993175e-02, -5.69681839e-03,  1.43435457e-02,\n",
              "        -4.34008457e-02,  3.43088589e-02,  7.02686255e-03,\n",
              "        -1.35040182e-02,  1.00000000e+00],\n",
              "       [ 7.44012909e-02, -4.46416365e-02,  1.85837236e-02,\n",
              "         6.31868033e-02,  6.17248717e-02,  4.28400557e-02,\n",
              "         8.14208361e-03, -2.59226200e-03,  5.80391277e-02,\n",
              "        -5.90671943e-02,  1.00000000e+00],\n",
              "       [-5.27375548e-02,  5.06801187e-02, -1.15950145e-02,\n",
              "         5.63010619e-02,  5.62210602e-02,  7.29023080e-02,\n",
              "        -3.97192078e-02,  7.12099798e-02,  3.05664874e-02,\n",
              "        -5.21980442e-03,  1.00000000e+00],\n",
              "       [ 5.26060602e-02,  5.06801187e-02, -2.45287594e-02,\n",
              "         5.63010619e-02, -7.07277125e-03, -5.07165897e-03,\n",
              "        -2.13110188e-02, -2.59226200e-03,  2.67142576e-02,\n",
              "        -3.83566597e-02,  1.00000000e+00],\n",
              "       [-1.07225632e-01, -4.46416365e-02, -3.42290681e-02,\n",
              "        -6.76422830e-02, -6.34868384e-02, -7.05196875e-02,\n",
              "         8.14208361e-03, -3.94933829e-02, -6.09254186e-04,\n",
              "        -7.97777289e-02,  1.00000000e+00],\n",
              "       [-6.72677086e-02,  5.06801187e-02, -1.26728266e-02,\n",
              "        -4.00993175e-02, -1.53284884e-02,  4.63594335e-03,\n",
              "        -5.81273969e-02,  3.43088589e-02,  1.91990331e-02,\n",
              "        -3.42145528e-02,  1.00000000e+00],\n",
              "       [-7.45327855e-02,  5.06801187e-02, -1.80618869e-02,\n",
              "         8.10087222e-03, -1.94563470e-02, -2.48000121e-02,\n",
              "        -6.54906725e-02,  3.43088589e-02,  6.73172179e-02,\n",
              "        -1.76461252e-02,  1.00000000e+00],\n",
              "       [-1.88201653e-03,  5.06801187e-02,  3.04396564e-02,\n",
              "         5.28581912e-02,  3.97096259e-02,  5.66185880e-02,\n",
              "        -3.97192078e-02,  7.12099798e-02,  2.53931349e-02,\n",
              "         2.79170509e-02,  1.00000000e+00],\n",
              "       [ 5.98711371e-02, -4.46416365e-02, -2.12953232e-02,\n",
              "         8.72868982e-02,  4.52134374e-02,  3.15667111e-02,\n",
              "        -4.70824835e-02,  7.12099798e-02,  7.91210814e-02,\n",
              "         1.35611831e-01,  1.00000000e+00],\n",
              "       [-6.00026317e-02,  5.06801187e-02, -1.05172024e-02,\n",
              "        -1.48515991e-02, -4.97273099e-02, -2.35474182e-02,\n",
              "        -5.81273969e-02,  1.58582984e-02, -9.91895736e-03,\n",
              "        -3.42145528e-02,  1.00000000e+00],\n",
              "       [ 6.71362140e-02, -4.46416365e-02, -6.11743699e-02,\n",
              "        -4.00993175e-02, -2.63361113e-02, -2.44868636e-02,\n",
              "         3.39135482e-02, -3.94933829e-02, -5.61575731e-02,\n",
              "        -5.90671943e-02,  1.00000000e+00],\n",
              "       [ 9.01559883e-03,  5.06801187e-02, -3.96181284e-02,\n",
              "         2.87580964e-02,  3.83336731e-02,  7.35286049e-02,\n",
              "        -7.28539481e-02,  1.08111101e-01,  1.55668445e-02,\n",
              "        -4.66408736e-02,  1.00000000e+00],\n",
              "       [-2.73097857e-02,  5.06801187e-02,  6.06183944e-02,\n",
              "         4.94153205e-02,  8.51160702e-02,  8.63676919e-02,\n",
              "        -2.90282981e-03,  3.43088589e-02,  3.78144788e-02,\n",
              "         4.86275855e-02,  1.00000000e+00],\n",
              "       [-4.54724779e-02, -4.46416365e-02,  3.90621530e-02,\n",
              "         1.21513083e-03,  1.63184273e-02,  1.52829910e-02,\n",
              "        -2.86742944e-02,  2.65596235e-02,  4.45283740e-02,\n",
              "        -2.59303390e-02,  1.00000000e+00],\n",
              "       [ 4.53409833e-02,  5.06801187e-02,  1.96615356e-02,\n",
              "         3.90867085e-02,  2.04462859e-02,  2.59300387e-02,\n",
              "         8.14208361e-03, -2.59226200e-03, -3.30371258e-03,\n",
              "         1.96328371e-02,  1.00000000e+00],\n",
              "       [ 1.26481373e-02, -4.46416365e-02, -2.02175111e-02,\n",
              "        -1.59992226e-02,  1.21905688e-02,  2.12328118e-02,\n",
              "        -7.65355859e-02,  1.08111101e-01,  5.98807231e-02,\n",
              "        -2.17882321e-02,  1.00000000e+00],\n",
              "       [-8.54304009e-02, -4.46416365e-02, -4.05032999e-03,\n",
              "        -9.11348125e-03, -2.94491268e-03,  7.76742797e-03,\n",
              "         2.28686348e-02, -3.94933829e-02, -6.11765951e-02,\n",
              "        -1.35040182e-02,  1.00000000e+00],\n",
              "       [-5.63700933e-02, -4.46416365e-02, -1.15950145e-02,\n",
              "        -3.32135761e-02, -4.69754041e-02, -4.76598498e-02,\n",
              "         4.46044580e-03, -3.94933829e-02, -7.97939755e-03,\n",
              "        -8.80619427e-02,  1.00000000e+00],\n",
              "       [-4.91050164e-02, -4.46416365e-02, -6.44078061e-02,\n",
              "        -1.02070990e-01, -2.94491268e-03, -1.54055582e-02,\n",
              "         6.33666507e-02, -4.72426183e-02, -3.32487872e-02,\n",
              "        -5.49250874e-02,  1.00000000e+00],\n",
              "       [-2.73097857e-02, -4.46416365e-02, -6.00965578e-02,\n",
              "        -2.97707054e-02,  4.65893902e-02,  1.99802180e-02,\n",
              "         1.22272856e-01, -3.94933829e-02, -5.14005353e-02,\n",
              "        -9.36191133e-03,  1.00000000e+00],\n",
              "       [ 1.75052192e-03, -4.46416365e-02, -6.54856182e-02,\n",
              "        -5.67061055e-03, -7.07277125e-03, -1.94764882e-02,\n",
              "         4.12768238e-02, -3.94933829e-02, -3.30371258e-03,\n",
              "         7.20651633e-03,  1.00000000e+00],\n",
              "       [ 1.26481373e-02, -4.46416365e-02, -2.56065715e-02,\n",
              "        -4.00993175e-02, -3.04639698e-02, -4.51546621e-02,\n",
              "         7.80932019e-02, -7.63945038e-02, -7.21284546e-02,\n",
              "         1.13486232e-02,  1.00000000e+00],\n",
              "       [-2.73097857e-02, -4.46416365e-02, -6.33299941e-02,\n",
              "        -5.04279296e-02, -8.96299427e-02, -1.04339721e-01,\n",
              "         5.23217373e-02, -7.63945038e-02, -5.61575731e-02,\n",
              "        -6.73514081e-02,  1.00000000e+00],\n",
              "       [-2.36772472e-02, -4.46416365e-02, -6.97968665e-02,\n",
              "        -6.41994123e-02, -5.93589799e-02, -5.04781859e-02,\n",
              "         1.91869970e-02, -3.94933829e-02, -8.91368601e-02,\n",
              "        -5.07829805e-02,  1.00000000e+00],\n",
              "       [-6.36351702e-02, -4.46416365e-02,  3.58287167e-02,\n",
              "        -2.28849640e-02, -3.04639698e-02, -1.88501913e-02,\n",
              "        -6.58446761e-03, -2.59226200e-03, -2.59524244e-02,\n",
              "        -5.49250874e-02,  1.00000000e+00]])"
            ]
          },
          "metadata": {
            "tags": []
          },
          "execution_count": 22
        }
      ]
    },
    {
      "cell_type": "code",
      "metadata": {
        "colab": {
          "base_uri": "https://localhost:8080/"
        },
        "id": "KZK0CZZ3WxbN",
        "outputId": "249d2b79-155d-42b2-8d3e-acf761beefe0"
      },
      "source": [
        "# Calculate the value of the coefficients theta. You can use the function np.linalg.pinv\n",
        "##TODO##\n",
        "\n",
        "def calc_variance(values, mean):\n",
        "  return sum([(x-mean)**2 for x in values])\n",
        "\n",
        "def calc_covariance(x_vals, y_vals):\n",
        "  x_vals_flat = x_vals.flatten()\n",
        "  y_vals_flat = y_vals.flatten()\n",
        "\n",
        "  mean_x = np.mean(x_vals_flat)\n",
        "  mean_y = np.mean(y_vals_flat)\n",
        "\n",
        "  n = x_vals_flat.size\n",
        "\n",
        "  return (1 / n) * np.sum((x_vals_flat - mean_x) * (y_vals_flat - mean_y))\n",
        "\n",
        "def compute_cov_matrix(y_vals, x_vals):\n",
        "  if x_vals.shape[0] != y_vals.shape[0]:\n",
        "    raise Exception(\"Shapes do not match\")\n",
        "\n",
        "  x_vals_m = np.matrix(np.mean(x_vals, axis=0).repeat(x_vals.shape[0], axis=0).reshape(x_vals.shape))\n",
        "  y_vals_m = np.matrix(np.mean(y_vals, axis=0).repeat(y_vals.shape[0], axis=0).reshape(y_vals.shape))\n",
        "\n",
        "  return ((x_vals - x_vals_m).T * (y_vals - y_vals_m)) * 1 / x_vals.shape[0]\n",
        "\n",
        "def calc_coefficients(Xvals, Yvals):\n",
        "  if Yvals.shape[1] != 1:\n",
        "    raise Exception (\"Yvals should be a vector with shape [n, 1]\")\n",
        "        \n",
        "  if Xvals.shape[0] != Yvals.shape[0]:\n",
        "    raise Exception (\"XVals should have the same amount of lines as Yvals\")\n",
        "\n",
        "  C_y_x = compute_cov_matrix(Yvals, Xvals)\n",
        "  C_x_x = compute_cov_matrix(Xvals, Xvals)\n",
        "\n",
        "  b1_bn = C_x_x.I * C_y_x\n",
        "\n",
        "  x_mean = np.matrix(np.mean(Xvals, axis=0))\n",
        "  y_mean = np.mean(Yvals)\n",
        "\n",
        "  b0 = -x_mean * b1_bn + y_mean\n",
        "\n",
        "  return (np.float(b0), np.array(b1_bn).flatten())\n",
        "\n",
        "x_m = np.matrix(Xtrain)\n",
        "y_m = np.matrix(Ytrain.reshape((Ytrain.shape[0], 1)))\n",
        "\n",
        "ret = calc_coefficients(x_m, y_m)\n",
        "\n",
        "intercept = ret[0]\n",
        "coeffs = ret[1]\n",
        "\n",
        "print(intercept)\n",
        "print(coeffs)\n",
        "\n",
        "def predict_lr(b0, bn, X):\n",
        "  return X.dot(bn) + b0"
      ],
      "execution_count": 23,
      "outputs": [
        {
          "output_type": "stream",
          "text": [
            "151.3456553477407\n",
            "[  37.90031426 -241.96624835  542.42575342  347.70830529 -931.46126093\n",
            "  518.04405547  163.40353476  275.31003837  736.18909839   48.67112488]\n"
          ],
          "name": "stdout"
        }
      ]
    },
    {
      "cell_type": "markdown",
      "metadata": {
        "id": "wXfE70pYWxbN"
      },
      "source": [
        "## Part (b) Computing performance metrics"
      ]
    },
    {
      "cell_type": "code",
      "metadata": {
        "id": "sP1M6UUXWxbN"
      },
      "source": [
        "# Make a prediction on the test set by applying the coefficients theta to the test set\n",
        "##TODO##\n",
        "y_predictions_custom_lr = predict_lr(intercept, coeffs, Xtest)"
      ],
      "execution_count": 24,
      "outputs": []
    },
    {
      "cell_type": "code",
      "metadata": {
        "colab": {
          "base_uri": "https://localhost:8080/"
        },
        "id": "VqSIhZfHWxbN",
        "outputId": "14847916-4522-436a-d172-c637e89d8ff1"
      },
      "source": [
        "# Calculate the mean squared error and the R^2. \n",
        "# You can use the built in functions from sklearn\n",
        "##TODO##\n",
        "\n",
        "custom_lr_mse = metrics.mean_squared_error(Ytest, y_predictions_custom_lr)\n",
        "custom_lr_r2 = metrics.r2_score(Ytest, y_predictions_custom_lr)\n",
        "\n",
        "print(\"Custom Linear Regression MSE:\", custom_lr_mse)\n",
        "print(\"Custom Linear Regression R2:\", custom_lr_r2)"
      ],
      "execution_count": 25,
      "outputs": [
        {
          "output_type": "stream",
          "text": [
            "Custom Linear Regression MSE: 2900.1732878832318\n",
            "Custom Linear Regression R2: 0.45260660216173787\n"
          ],
          "name": "stdout"
        }
      ]
    },
    {
      "cell_type": "markdown",
      "metadata": {
        "id": "06za6TBdWxbN"
      },
      "source": [
        "## Part (c) Checking results\n",
        "Compare your results with the built in function `sklearn.linear_model.LinearRegression()`"
      ]
    },
    {
      "cell_type": "code",
      "metadata": {
        "id": "xxvUY6COWxbO"
      },
      "source": [
        "# Instantiate the linear regression\n",
        "##TODO##\n",
        "from sklearn.linear_model import LinearRegression\n",
        "\n",
        "lr_model = LinearRegression(fit_intercept = True)"
      ],
      "execution_count": 26,
      "outputs": []
    },
    {
      "cell_type": "code",
      "metadata": {
        "colab": {
          "base_uri": "https://localhost:8080/"
        },
        "id": "x90ZO99fWxbO",
        "outputId": "a8c19a80-e0d3-406f-c3e8-9b2abb9ad78f"
      },
      "source": [
        "# Fit the model and make a prediction on the test set. Compare with your implementation\n",
        "##TODO##\n",
        "lr_model.fit(Xtrain, Ytrain)\n",
        "\n",
        "y_preds = lr_model.predict(Xtest)\n",
        "built_in_lr_mse = metrics.mean_squared_error(Ytest, y_preds)\n",
        "built_in_lr_r2 = metrics.r2_score(Ytest, y_preds)\n",
        "\n",
        "print(\"Sklearn Linear Regression MSE:\", built_in_lr_mse)\n",
        "print(\"Sklearn Linear Regression R2:\", built_in_lr_r2)\n",
        "\n",
        "# Given the above results, the custom implementation and the sklearn implementation gave\n",
        "# The same results based on R2 and MSE, but the sklearn method is likely more optimised"
      ],
      "execution_count": 27,
      "outputs": [
        {
          "output_type": "stream",
          "text": [
            "Sklearn Linear Regression MSE: 2900.1732878832318\n",
            "Sklearn Linear Regression R2: 0.452606602161738\n"
          ],
          "name": "stdout"
        }
      ]
    },
    {
      "cell_type": "markdown",
      "metadata": {
        "id": "VoypYFuSWxbO"
      },
      "source": [
        "Visualise the perfomance of the regression by plotting your predicted values vs target values on a scatter plot, and drawing a line y=x. If all predictions were perfect, the predicted values would lie on the line."
      ]
    },
    {
      "cell_type": "code",
      "metadata": {
        "colab": {
          "base_uri": "https://localhost:8080/",
          "height": 279
        },
        "id": "tl_yu8OVWxbO",
        "outputId": "f15859c2-dd08-44ea-e397-5a83bd40ba67"
      },
      "source": [
        "# Plot predicted values vs target values on a scatter plot, and drawing a line y=x\n",
        "## TODO##\n",
        "import matplotlib.lines as mlines\n",
        "import matplotlib.transforms as mtransforms\n",
        "\n",
        "fig, ax = plt.subplots()\n",
        "ax.scatter(y_predictions_custom_lr, Ytest)\n",
        "plt.xlabel(\"Predictions\")\n",
        "plt.ylabel(\"Actual\")\n",
        "line = mlines.Line2D([0, 1], [0, 1], color='red')\n",
        "transform = ax.transAxes\n",
        "line.set_transform(transform)\n",
        "ax.add_line(line)\n",
        "plt.show()"
      ],
      "execution_count": 28,
      "outputs": [
        {
          "output_type": "display_data",
          "data": {
            "image/png": "[encoded data removed]",
            "text/plain": [
              "<Figure size 432x288 with 1 Axes>"
            ]
          },
          "metadata": {
            "tags": [],
            "needs_background": "light"
          }
        }
      ]
    },
    {
      "cell_type": "markdown",
      "metadata": {
        "id": "vy3yhBL4WxbP"
      },
      "source": [
        "# Extra question: Polynomial regression\n",
        "The term 'linear' in linear regression refers only to the coefficients $\\theta$. We can in fact compute polynomial terms in the data and perform linear regression over this extended dataset to get a better fit to the data.\n",
        "\n",
        "To compute polynomial terms in the data automatically, you can use the class `sklearn.preprocessing.PolynomialFeatures`. To find out how to use it, look at the guidance (you can type `help(PolynomialFeatures)` once you have imported it).\n",
        "\n",
        "The following small dataset (in the cell below) gives a relationship between temperature and yield for an experiment. Use cross-validation to select the degree of the polynomial that best fits this data.\n",
        "\n",
        "Plot the mean squared error against degree on the training set and on the validation set. Which degree of polynomial best fits this data?"
      ]
    },
    {
      "cell_type": "code",
      "metadata": {
        "colab": {
          "base_uri": "https://localhost:8080/",
          "height": 265
        },
        "id": "5TtC5dzKWxbP",
        "outputId": "9cb52283-7363-491c-cec2-3787ef9f5c9e"
      },
      "source": [
        "# Data\n",
        "X = np.array([50,50,50,70,70,70,80,80,80,90,90,90,100,100,100]).reshape(-1, 1)\n",
        "y = np.array([3.3,2.8,2.9,2.3,2.6,2.1,2.5,2.9,2.4,3,3.1,2.8,3.3,3.5,3]).reshape(-1, 1)\n",
        "\n",
        "plt.plot(X, y)\n",
        "plt.show()"
      ],
      "execution_count": 69,
      "outputs": [
        {
          "output_type": "display_data",
          "data": {
            "image/png": "[encoded data removed]",
            "text/plain": [
              "<Figure size 432x288 with 1 Axes>"
            ]
          },
          "metadata": {
            "tags": [],
            "needs_background": "light"
          }
        }
      ]
    },
    {
      "cell_type": "code",
      "metadata": {
        "id": "S3GAcHLoWxbP"
      },
      "source": [
        "from sklearn.preprocessing import PolynomialFeatures"
      ],
      "execution_count": 58,
      "outputs": []
    },
    {
      "cell_type": "code",
      "metadata": {
        "colab": {
          "base_uri": "https://localhost:8080/"
        },
        "id": "Ox2uoQ9CWxbP",
        "outputId": "ae8857d7-c909-4240-bdfc-c59ba64bf241"
      },
      "source": [
        "max_poly = 5\r\n",
        "\r\n",
        "# Instantiate KFold with 5 splits. \r\n",
        "# Set the parameter random_state to help you reproduce your results if needed.\r\n",
        "##TODO##\r\n",
        "kf = KFold(n_splits = 5, random_state = 4)\r\n",
        "\r\n",
        "# Inititalise two variables to store the \r\n",
        "# training accuracies and validation accuracies \r\n",
        "# (these need to store max_k*5 accuracies) \r\n",
        "##TODO##\r\n",
        "train_accs = []\r\n",
        "valid_accs = []\r\n",
        "\r\n",
        "# Loop over the values of k: \r\n",
        "for p in range(max_poly):\r\n",
        "    \r\n",
        "    # Instantiate a k-nn classifier (Use the sklearn classifier)\r\n",
        "    # with the current value of k \r\n",
        "    ##TODO##\r\n",
        "    p_n_train_accs = []\r\n",
        "    p_n_valid_accs = []\r\n",
        "\r\n",
        "    # Loop over the cross-validation splits: \r\n",
        "    ##TODO##\r\n",
        "    for train_idx, test_idx in kf.split(X):\r\n",
        "        Xtrain, Xval = X[train_idx], X[test_idx]\r\n",
        "        Ytrain, Yval = Y[train_idx], Y[test_idx]\r\n",
        "        # fit the model on the current split of data \r\n",
        "        ##TODO##\r\n",
        "        poly = PolynomialFeatures(degree = p+1)\r\n",
        "        \r\n",
        "        Xtrain = poly.fit_transform(Xtrain)\r\n",
        "        Xval = poly.fit_transform(Xval)\r\n",
        "\r\n",
        "        poly = LinearRegression()\r\n",
        "        poly.fit(Xtrain, Ytrain)\r\n",
        "          \r\n",
        "        # make predictions \r\n",
        "        ##TODO##\r\n",
        "\r\n",
        "        train_y_pred = poly.predict(Xtrain)\r\n",
        "        val_y_pred = poly.predict(Xval)\r\n",
        "        \r\n",
        "        # calculate training and validation accuracy and store \r\n",
        "        ##TODO##\r\n",
        "        p_n_train_accs.append(metrics.mean_squared_error(Ytrain, train_y_pred))\r\n",
        "        p_n_valid_accs.append(metrics.mean_squared_error(Yval, val_y_pred))\r\n",
        "    \r\n",
        "    train_accs.append(np.mean(p_n_train_accs))\r\n",
        "    valid_accs.append(np.mean(p_n_valid_accs))\r\n",
        "        \r\n",
        "# Calculate the mean training and validation accuracies across splits for each 𝑘\r\n",
        "##TODO##\r\n",
        "mean_train_acc = np.mean(train_accs)\r\n",
        "mean_val_acc = np.mean(valid_accs)\r\n",
        "\r\n",
        "print(\"Training mean mse\", mean_train_acc)\r\n",
        "print(\"Validation mean mse\", mean_val_acc)"
      ],
      "execution_count": 65,
      "outputs": [
        {
          "output_type": "stream",
          "text": [
            "Training mean mse 3403.75722999515\n",
            "Validation mean mse 93142.68258503193\n"
          ],
          "name": "stdout"
        },
        {
          "output_type": "stream",
          "text": [
            "/usr/local/lib/python3.6/dist-packages/sklearn/model_selection/_split.py:296: FutureWarning: Setting a random_state has no effect since shuffle is False. This will raise an error in 0.24. You should leave random_state to its default (None), or set shuffle=True.\n",
            "  FutureWarning\n"
          ],
          "name": "stderr"
        }
      ]
    },
    {
      "cell_type": "code",
      "metadata": {
        "colab": {
          "base_uri": "https://localhost:8080/",
          "height": 282
        },
        "id": "v6C6EnO1znY5",
        "outputId": "392f6b1c-2001-455c-ec04-f175abf1dc9b"
      },
      "source": [
        "p_vals = [p+1 for p in range(max_poly)]\r\n",
        "\r\n",
        "plt.plot(p_vals, train_accs, label = \"Training accuracy\")\r\n",
        "plt.plot(p_vals, valid_accs, label = \"Validation accuracy\")\r\n",
        "plt.legend(loc=\"upper right\")\r\n",
        "\r\n",
        "print(valid_accs.index(np.max(valid_accs)))\r\n",
        "# A second degree polynomial is best"
      ],
      "execution_count": 68,
      "outputs": [
        {
          "output_type": "stream",
          "text": [
            "2\n"
          ],
          "name": "stdout"
        },
        {
          "output_type": "display_data",
          "data": {
            "image/png": "[encoded data removed]",
            "text/plain": [
              "<Figure size 432x288 with 1 Axes>"
            ]
          },
          "metadata": {
            "tags": [],
            "needs_background": "light"
          }
        }
      ]
    }
  ]
}